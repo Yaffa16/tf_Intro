{
  "nbformat": 4,
  "nbformat_minor": 0,
  "metadata": {
    "colab": {
      "name": "INTRO TO ML.ipynb",
      "provenance": [],
      "collapsed_sections": [],
      "include_colab_link": true
    },
    "kernelspec": {
      "name": "python3",
      "display_name": "Python 3"
    }
  },
  "cells": [
    {
      "cell_type": "markdown",
      "metadata": {
        "id": "view-in-github",
        "colab_type": "text"
      },
      "source": [
        "<a href=\"https://colab.research.google.com/github/Yaffa16/tf_Intro/blob/master/tf%201.ipynb\" target=\"_parent\"><img src=\"https://colab.research.google.com/assets/colab-badge.svg\" alt=\"Open In Colab\"/></a>"
      ]
    },
    {
      "cell_type": "code",
      "metadata": {
        "id": "nR12E1yUT2g-",
        "colab_type": "code",
        "colab": {}
      },
      "source": [
        "import tensorflow as tf"
      ],
      "execution_count": 0,
      "outputs": []
    },
    {
      "cell_type": "code",
      "metadata": {
        "id": "fduiN-pEUDTY",
        "colab_type": "code",
        "colab": {}
      },
      "source": [
        "import numpy as np"
      ],
      "execution_count": 0,
      "outputs": []
    },
    {
      "cell_type": "code",
      "metadata": {
        "id": "e2-PLp5_UHI6",
        "colab_type": "code",
        "colab": {}
      },
      "source": [
        "from tensorflow import keras"
      ],
      "execution_count": 0,
      "outputs": []
    },
    {
      "cell_type": "code",
      "metadata": {
        "id": "u_BmNFgSUJgf",
        "colab_type": "code",
        "colab": {}
      },
      "source": [
        "# Create a model in tensoflow using Keras. We have created a model with one layer,\n",
        "# as shown by the number of \"keras.layers\" sentences in there. This is a fully connecred layer with number of nurons(units) as 1 and the input value (input shape) as 1 single value/\n",
        "#model = tf.keras.Sequential([keras.layers.Dense(units=1, input_shape=[1]),keras.layers.Dense(units=5,activation=tf.nn.relu),keras.layers.Dense(units=5, activation=tf.nn.relu), keras.layers.Dense(units=1)])\n",
        "model = tf.keras.Sequential([keras.layers.Dense(units=5, input_shape=[1], activation=tf.nn.relu), keras.layers.Dense(units=5, input_shape=[1], activation=tf.nn.relu),keras.layers.Dense(units=1)])\n"
      ],
      "execution_count": 0,
      "outputs": []
    },
    {
      "cell_type": "code",
      "metadata": {
        "id": "m6zQ79L7ZPkn",
        "colab_type": "code",
        "colab": {}
      },
      "source": [
        "# Then we compile the model. We use two things here the optimiser and the loss. The optimiser is what changes the values of each neuron to give a better answer (it changes the m and c values from the y=mx+c)\n",
        "# and the loss keeps a check on how good the model is doing currenty. \n",
        "model.compile(optimizer='adam', loss='mean_squared_error')"
      ],
      "execution_count": 0,
      "outputs": []
    },
    {
      "cell_type": "code",
      "metadata": {
        "id": "4yqmc1fvagE6",
        "colab_type": "code",
        "colab": {}
      },
      "source": [
        "## CREATE THE DATA "
      ],
      "execution_count": 0,
      "outputs": []
    },
    {
      "cell_type": "code",
      "metadata": {
        "id": "Xcvo0_QWaikI",
        "colab_type": "code",
        "colab": {}
      },
      "source": [
        "# We create two arrays (a sequence of numbers) that are the x and the corresponding Y values that the network needs to learn. We use np.array which is the numpy libraray, thats basically used to do math things in Python\n",
        "#xs = np.array([1.0, 0.0, 1.0, 2.0, 3.0,1.1,1.2,1.3], dtype=float)\n",
        "#ys = np.array([-2.0, 1.0, 4.0, 7.0, 10.0, 13.0], dtype=float)\n",
        "#ys = np.array([1.0,0.0,1.0,4.0,9.0,1.21,1.44,1.69],  dtype=float)\n",
        "#ys = np.array([1.0,0.0,1.0,4.0,9.0,1.21,1.44,1.69],  dtype=float)\n",
        "\n",
        "# \n",
        "xs = np.random.rand(500)\n",
        "ys = xs*3+0.1\n",
        "#xs=xs/10\n",
        "#ys=ys/100"
      ],
      "execution_count": 0,
      "outputs": []
    },
    {
      "cell_type": "code",
      "metadata": {
        "id": "0u5sTGSOpI5R",
        "colab_type": "code",
        "colab": {}
      },
      "source": [
        ""
      ],
      "execution_count": 0,
      "outputs": []
    },
    {
      "cell_type": "code",
      "metadata": {
        "id": "W-mD7Cz9awcl",
        "colab_type": "code",
        "outputId": "aaa625fb-c847-45a5-9239-1fb407709b40",
        "colab": {
          "base_uri": "https://localhost:8080/",
          "height": 1000
        }
      },
      "source": [
        "# Fit the data points into the model\n",
        "model.fit(xs,ys, epochs=100)"
      ],
      "execution_count": 0,
      "outputs": [
        {
          "output_type": "stream",
          "text": [
            "Train on 500 samples\n",
            "Epoch 1/100\n",
            "500/500 [==============================] - 1s 2ms/sample - loss: 3.4112\n",
            "Epoch 2/100\n",
            "500/500 [==============================] - 0s 47us/sample - loss: 3.2165\n",
            "Epoch 3/100\n",
            "500/500 [==============================] - 0s 44us/sample - loss: 3.0099\n",
            "Epoch 4/100\n",
            "500/500 [==============================] - 0s 47us/sample - loss: 2.7854\n",
            "Epoch 5/100\n",
            "500/500 [==============================] - 0s 44us/sample - loss: 2.5446\n",
            "Epoch 6/100\n",
            "500/500 [==============================] - 0s 43us/sample - loss: 2.2853\n",
            "Epoch 7/100\n",
            "500/500 [==============================] - 0s 46us/sample - loss: 2.0160\n",
            "Epoch 8/100\n",
            "500/500 [==============================] - 0s 43us/sample - loss: 1.7345\n",
            "Epoch 9/100\n",
            "500/500 [==============================] - 0s 44us/sample - loss: 1.4575\n",
            "Epoch 10/100\n",
            "500/500 [==============================] - 0s 45us/sample - loss: 1.1975\n",
            "Epoch 11/100\n",
            "500/500 [==============================] - 0s 49us/sample - loss: 0.9535\n",
            "Epoch 12/100\n",
            "500/500 [==============================] - 0s 46us/sample - loss: 0.7499\n",
            "Epoch 13/100\n",
            "500/500 [==============================] - 0s 48us/sample - loss: 0.5796\n",
            "Epoch 14/100\n",
            "500/500 [==============================] - 0s 47us/sample - loss: 0.4455\n",
            "Epoch 15/100\n",
            "500/500 [==============================] - 0s 45us/sample - loss: 0.3519\n",
            "Epoch 16/100\n",
            "500/500 [==============================] - 0s 46us/sample - loss: 0.2932\n",
            "Epoch 17/100\n",
            "500/500 [==============================] - 0s 56us/sample - loss: 0.2534\n",
            "Epoch 18/100\n",
            "500/500 [==============================] - 0s 49us/sample - loss: 0.2328\n",
            "Epoch 19/100\n",
            "500/500 [==============================] - 0s 45us/sample - loss: 0.2205\n",
            "Epoch 20/100\n",
            "500/500 [==============================] - 0s 49us/sample - loss: 0.2128\n",
            "Epoch 21/100\n",
            "500/500 [==============================] - 0s 55us/sample - loss: 0.2072\n",
            "Epoch 22/100\n",
            "500/500 [==============================] - 0s 53us/sample - loss: 0.2028\n",
            "Epoch 23/100\n",
            "500/500 [==============================] - 0s 44us/sample - loss: 0.1974\n",
            "Epoch 24/100\n",
            "500/500 [==============================] - 0s 48us/sample - loss: 0.1926\n",
            "Epoch 25/100\n",
            "500/500 [==============================] - 0s 47us/sample - loss: 0.1878\n",
            "Epoch 26/100\n",
            "500/500 [==============================] - 0s 47us/sample - loss: 0.1827\n",
            "Epoch 27/100\n",
            "500/500 [==============================] - 0s 49us/sample - loss: 0.1778\n",
            "Epoch 28/100\n",
            "500/500 [==============================] - 0s 46us/sample - loss: 0.1726\n",
            "Epoch 29/100\n",
            "500/500 [==============================] - 0s 46us/sample - loss: 0.1674\n",
            "Epoch 30/100\n",
            "500/500 [==============================] - 0s 52us/sample - loss: 0.1621\n",
            "Epoch 31/100\n",
            "500/500 [==============================] - 0s 47us/sample - loss: 0.1570\n",
            "Epoch 32/100\n",
            "500/500 [==============================] - 0s 57us/sample - loss: 0.1517\n",
            "Epoch 33/100\n",
            "500/500 [==============================] - 0s 47us/sample - loss: 0.1463\n",
            "Epoch 34/100\n",
            "500/500 [==============================] - 0s 47us/sample - loss: 0.1410\n",
            "Epoch 35/100\n",
            "500/500 [==============================] - 0s 55us/sample - loss: 0.1356\n",
            "Epoch 36/100\n",
            "500/500 [==============================] - 0s 53us/sample - loss: 0.1303\n",
            "Epoch 37/100\n",
            "500/500 [==============================] - 0s 51us/sample - loss: 0.1249\n",
            "Epoch 38/100\n",
            "500/500 [==============================] - 0s 48us/sample - loss: 0.1195\n",
            "Epoch 39/100\n",
            "500/500 [==============================] - 0s 53us/sample - loss: 0.1142\n",
            "Epoch 40/100\n",
            "500/500 [==============================] - 0s 48us/sample - loss: 0.1089\n",
            "Epoch 41/100\n",
            "500/500 [==============================] - 0s 50us/sample - loss: 0.1036\n",
            "Epoch 42/100\n",
            "500/500 [==============================] - 0s 50us/sample - loss: 0.0985\n",
            "Epoch 43/100\n",
            "500/500 [==============================] - 0s 55us/sample - loss: 0.0933\n",
            "Epoch 44/100\n",
            "500/500 [==============================] - 0s 51us/sample - loss: 0.0882\n",
            "Epoch 45/100\n",
            "500/500 [==============================] - 0s 46us/sample - loss: 0.0833\n",
            "Epoch 46/100\n",
            "500/500 [==============================] - 0s 45us/sample - loss: 0.0784\n",
            "Epoch 47/100\n",
            "500/500 [==============================] - 0s 47us/sample - loss: 0.0736\n",
            "Epoch 48/100\n",
            "500/500 [==============================] - 0s 45us/sample - loss: 0.0689\n",
            "Epoch 49/100\n",
            "500/500 [==============================] - 0s 46us/sample - loss: 0.0643\n",
            "Epoch 50/100\n",
            "500/500 [==============================] - 0s 45us/sample - loss: 0.0598\n",
            "Epoch 51/100\n",
            "500/500 [==============================] - 0s 47us/sample - loss: 0.0556\n",
            "Epoch 52/100\n",
            "500/500 [==============================] - 0s 52us/sample - loss: 0.0514\n",
            "Epoch 53/100\n",
            "500/500 [==============================] - 0s 52us/sample - loss: 0.0474\n",
            "Epoch 54/100\n",
            "500/500 [==============================] - 0s 50us/sample - loss: 0.0436\n",
            "Epoch 55/100\n",
            "500/500 [==============================] - 0s 48us/sample - loss: 0.0399\n",
            "Epoch 56/100\n",
            "500/500 [==============================] - 0s 48us/sample - loss: 0.0364\n",
            "Epoch 57/100\n",
            "500/500 [==============================] - 0s 53us/sample - loss: 0.0331\n",
            "Epoch 58/100\n",
            "500/500 [==============================] - 0s 50us/sample - loss: 0.0299\n",
            "Epoch 59/100\n",
            "500/500 [==============================] - 0s 49us/sample - loss: 0.0270\n",
            "Epoch 60/100\n",
            "500/500 [==============================] - 0s 46us/sample - loss: 0.0243\n",
            "Epoch 61/100\n",
            "500/500 [==============================] - 0s 46us/sample - loss: 0.0217\n",
            "Epoch 62/100\n",
            "500/500 [==============================] - 0s 48us/sample - loss: 0.0195\n",
            "Epoch 63/100\n",
            "500/500 [==============================] - 0s 45us/sample - loss: 0.0173\n",
            "Epoch 64/100\n",
            "500/500 [==============================] - 0s 48us/sample - loss: 0.0154\n",
            "Epoch 65/100\n",
            "500/500 [==============================] - 0s 45us/sample - loss: 0.0136\n",
            "Epoch 66/100\n",
            "500/500 [==============================] - 0s 48us/sample - loss: 0.0120\n",
            "Epoch 67/100\n",
            "500/500 [==============================] - 0s 47us/sample - loss: 0.0105\n",
            "Epoch 68/100\n",
            "500/500 [==============================] - 0s 43us/sample - loss: 0.0092\n",
            "Epoch 69/100\n",
            "500/500 [==============================] - 0s 50us/sample - loss: 0.0081\n",
            "Epoch 70/100\n",
            "500/500 [==============================] - 0s 49us/sample - loss: 0.0070\n",
            "Epoch 71/100\n",
            "500/500 [==============================] - 0s 51us/sample - loss: 0.0061\n",
            "Epoch 72/100\n",
            "500/500 [==============================] - 0s 45us/sample - loss: 0.0052\n",
            "Epoch 73/100\n",
            "500/500 [==============================] - 0s 46us/sample - loss: 0.0045\n",
            "Epoch 74/100\n",
            "500/500 [==============================] - 0s 48us/sample - loss: 0.0039\n",
            "Epoch 75/100\n",
            "500/500 [==============================] - 0s 51us/sample - loss: 0.0033\n",
            "Epoch 76/100\n",
            "500/500 [==============================] - 0s 49us/sample - loss: 0.0028\n",
            "Epoch 77/100\n",
            "500/500 [==============================] - 0s 45us/sample - loss: 0.0024\n",
            "Epoch 78/100\n",
            "500/500 [==============================] - 0s 45us/sample - loss: 0.0020\n",
            "Epoch 79/100\n",
            "500/500 [==============================] - 0s 45us/sample - loss: 0.0017\n",
            "Epoch 80/100\n",
            "500/500 [==============================] - 0s 45us/sample - loss: 0.0014\n",
            "Epoch 81/100\n",
            "500/500 [==============================] - 0s 42us/sample - loss: 0.0012\n",
            "Epoch 82/100\n",
            "500/500 [==============================] - 0s 55us/sample - loss: 0.0010\n",
            "Epoch 83/100\n",
            "500/500 [==============================] - 0s 45us/sample - loss: 8.5163e-04\n",
            "Epoch 84/100\n",
            "500/500 [==============================] - 0s 48us/sample - loss: 7.1109e-04\n",
            "Epoch 85/100\n",
            "500/500 [==============================] - 0s 48us/sample - loss: 5.9424e-04\n",
            "Epoch 86/100\n",
            "500/500 [==============================] - 0s 43us/sample - loss: 4.9495e-04\n",
            "Epoch 87/100\n",
            "500/500 [==============================] - 0s 45us/sample - loss: 4.1442e-04\n",
            "Epoch 88/100\n",
            "500/500 [==============================] - 0s 48us/sample - loss: 3.4550e-04\n",
            "Epoch 89/100\n",
            "500/500 [==============================] - 0s 48us/sample - loss: 2.9004e-04\n",
            "Epoch 90/100\n",
            "500/500 [==============================] - 0s 52us/sample - loss: 2.4261e-04\n",
            "Epoch 91/100\n",
            "500/500 [==============================] - 0s 47us/sample - loss: 2.0465e-04\n",
            "Epoch 92/100\n",
            "500/500 [==============================] - 0s 45us/sample - loss: 1.7310e-04\n",
            "Epoch 93/100\n",
            "500/500 [==============================] - 0s 48us/sample - loss: 1.4808e-04\n",
            "Epoch 94/100\n",
            "500/500 [==============================] - 0s 47us/sample - loss: 1.2681e-04\n",
            "Epoch 95/100\n",
            "500/500 [==============================] - 0s 46us/sample - loss: 1.1035e-04\n",
            "Epoch 96/100\n",
            "500/500 [==============================] - 0s 45us/sample - loss: 9.6488e-05\n",
            "Epoch 97/100\n",
            "500/500 [==============================] - 0s 42us/sample - loss: 8.5510e-05\n",
            "Epoch 98/100\n",
            "500/500 [==============================] - 0s 46us/sample - loss: 7.6705e-05\n",
            "Epoch 99/100\n",
            "500/500 [==============================] - 0s 50us/sample - loss: 6.9296e-05\n",
            "Epoch 100/100\n",
            "500/500 [==============================] - 0s 47us/sample - loss: 6.3166e-05\n"
          ],
          "name": "stdout"
        },
        {
          "output_type": "execute_result",
          "data": {
            "text/plain": [
              "<tensorflow.python.keras.callbacks.History at 0x7f9ec01dc390>"
            ]
          },
          "metadata": {
            "tags": []
          },
          "execution_count": 631
        }
      ]
    },
    {
      "cell_type": "code",
      "metadata": {
        "id": "ojk-gzWrbh01",
        "colab_type": "code",
        "outputId": "02c6e5cc-0f23-48b7-fd42-1cc6877aaf98",
        "colab": {
          "base_uri": "https://localhost:8080/",
          "height": 34
        }
      },
      "source": [
        "model.predict([2.0])#*100"
      ],
      "execution_count": 0,
      "outputs": [
        {
          "output_type": "execute_result",
          "data": {
            "text/plain": [
              "array([[6.0886173]], dtype=float32)"
            ]
          },
          "metadata": {
            "tags": []
          },
          "execution_count": 632
        }
      ]
    },
    {
      "cell_type": "code",
      "metadata": {
        "id": "b467v7R5bs_e",
        "colab_type": "code",
        "outputId": "5ce6e0b5-c610-45bd-997a-4d0289912cd0",
        "colab": {
          "base_uri": "https://localhost:8080/",
          "height": 34
        }
      },
      "source": [
        "model.predict([1.0])#*100"
      ],
      "execution_count": 0,
      "outputs": [
        {
          "output_type": "execute_result",
          "data": {
            "text/plain": [
              "array([[3.097242]], dtype=float32)"
            ]
          },
          "metadata": {
            "tags": []
          },
          "execution_count": 633
        }
      ]
    },
    {
      "cell_type": "code",
      "metadata": {
        "id": "bXYPcPFzjvrp",
        "colab_type": "code",
        "outputId": "c5f59995-da11-42cc-d4aa-96c7e7e93824",
        "colab": {
          "base_uri": "https://localhost:8080/",
          "height": 34
        }
      },
      "source": [
        "model.predict([3.0])#*100"
      ],
      "execution_count": 0,
      "outputs": [
        {
          "output_type": "execute_result",
          "data": {
            "text/plain": [
              "array([[9.071054]], dtype=float32)"
            ]
          },
          "metadata": {
            "tags": []
          },
          "execution_count": 634
        }
      ]
    },
    {
      "cell_type": "code",
      "metadata": {
        "id": "SlnM_2Jzjyb_",
        "colab_type": "code",
        "outputId": "a015bc24-9fce-401a-ccb7-03eea6813c5e",
        "colab": {
          "base_uri": "https://localhost:8080/",
          "height": 34
        }
      },
      "source": [
        "model.predict([10.0])#*100"
      ],
      "execution_count": 0,
      "outputs": [
        {
          "output_type": "execute_result",
          "data": {
            "text/plain": [
              "array([[29.948112]], dtype=float32)"
            ]
          },
          "metadata": {
            "tags": []
          },
          "execution_count": 635
        }
      ]
    },
    {
      "cell_type": "code",
      "metadata": {
        "id": "d0zv0ONFj1Hv",
        "colab_type": "code",
        "outputId": "f200e2d2-d828-4739-81cc-3a65acc145e0",
        "colab": {
          "base_uri": "https://localhost:8080/",
          "height": 369
        }
      },
      "source": [
        "tf.keras.utils.plot_model(\n",
        "    model,\n",
        "    to_file='model.png',\n",
        "    show_shapes=False,\n",
        "    show_layer_names=True,\n",
        "    rankdir='TB',\n",
        "    expand_nested=False,\n",
        "    dpi=96\n",
        ")"
      ],
      "execution_count": 0,
      "outputs": [
        {
          "output_type": "execute_result",
          "data": {
            "image/png": "[encoded data removed]",
            "text/plain": [
              "<IPython.core.display.Image object>"
            ]
          },
          "metadata": {
            "tags": []
          },
          "execution_count": 636
        }
      ]
    },
    {
      "cell_type": "code",
      "metadata": {
        "id": "-e_-tr4ql5jv",
        "colab_type": "code",
        "outputId": "78787e75-c0e2-4929-aaa3-d789ce192627",
        "colab": {
          "base_uri": "https://localhost:8080/",
          "height": 34
        }
      },
      "source": [
        "model.predict([0.94049729])"
      ],
      "execution_count": 0,
      "outputs": [
        {
          "output_type": "execute_result",
          "data": {
            "text/plain": [
              "array([[2.9190395]], dtype=float32)"
            ]
          },
          "metadata": {
            "tags": []
          },
          "execution_count": 637
        }
      ]
    },
    {
      "cell_type": "code",
      "metadata": {
        "id": "MGrJqevso43J",
        "colab_type": "code",
        "outputId": "437987fb-cccc-4b31-b0a6-53122b245621",
        "colab": {
          "base_uri": "https://localhost:8080/",
          "height": 34
        }
      },
      "source": [
        "model.predict([0.2])"
      ],
      "execution_count": 0,
      "outputs": [
        {
          "output_type": "execute_result",
          "data": {
            "text/plain": [
              "array([[0.7013457]], dtype=float32)"
            ]
          },
          "metadata": {
            "tags": []
          },
          "execution_count": 638
        }
      ]
    },
    {
      "cell_type": "code",
      "metadata": {
        "id": "krXAKSNmrD0r",
        "colab_type": "code",
        "outputId": "3cc5c0db-eb66-4a8e-e48c-d2c984a27407",
        "colab": {
          "base_uri": "https://localhost:8080/",
          "height": 34
        }
      },
      "source": [
        "model.predict([0.1])"
      ],
      "execution_count": 0,
      "outputs": [
        {
          "output_type": "execute_result",
          "data": {
            "text/plain": [
              "array([[0.40407744]], dtype=float32)"
            ]
          },
          "metadata": {
            "tags": []
          },
          "execution_count": 639
        }
      ]
    },
    {
      "cell_type": "code",
      "metadata": {
        "id": "yQCCPBmRrLsG",
        "colab_type": "code",
        "outputId": "4f6dea77-ca52-4651-b826-15e0e0e4d811",
        "colab": {
          "base_uri": "https://localhost:8080/",
          "height": 34
        }
      },
      "source": [
        "0.1*0.1"
      ],
      "execution_count": 0,
      "outputs": [
        {
          "output_type": "execute_result",
          "data": {
            "text/plain": [
              "0.010000000000000002"
            ]
          },
          "metadata": {
            "tags": []
          },
          "execution_count": 640
        }
      ]
    },
    {
      "cell_type": "code",
      "metadata": {
        "id": "njyywImRrTkv",
        "colab_type": "code",
        "colab": {}
      },
      "source": [
        ""
      ],
      "execution_count": 0,
      "outputs": []
    }
  ]
}